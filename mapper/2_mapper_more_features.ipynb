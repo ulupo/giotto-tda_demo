{
 "cells": [
  {
   "cell_type": "markdown",
   "metadata": {},
   "source": [
    "# ``giotto-tda`` Mapper – More features\n",
    "\n",
    "See also: [Getting started with Mapper](https://giotto-ai.github.io/gtda-docs/0.4.0/notebooks/mapper_quickstart.html)."
   ]
  },
  {
   "cell_type": "markdown",
   "metadata": {},
   "source": [
    "## Import libraries"
   ]
  },
  {
   "cell_type": "code",
   "execution_count": null,
   "metadata": {},
   "outputs": [],
   "source": [
    "from IPython.display import SVG, display\n",
    "\n",
    "# Data wrangling\n",
    "import numpy as np\n",
    "import pandas as pd\n",
    "\n",
    "# TDA magic\n",
    "from gtda.mapper import (\n",
    "    CubicalCover,\n",
    "    make_mapper_pipeline,\n",
    "    plot_static_mapper_graph,\n",
    "    MapperInteractivePlotter,\n",
    "    method_to_transform,\n",
    "    transformer_from_callable_on_rows\n",
    "    )\n",
    "\n",
    "# ML tools\n",
    "from sklearn.ensemble import IsolationForest\n",
    "from sklearn.pipeline import make_union"
   ]
  },
  {
   "cell_type": "code",
   "execution_count": null,
   "metadata": {},
   "outputs": [],
   "source": [
    "display(SVG(\"https://giotto-ai.github.io/gtda-docs/latest/_images/mapper_pipeline.svg\"))"
   ]
  },
  {
   "cell_type": "markdown",
   "metadata": {},
   "source": [
    "## Load Wisconsin breast cancer dataset\n",
    "\n",
    "Via: https://www.kaggle.com/uciml/breast-cancer-wisconsin-data\n",
    "\n",
    "**We can use pandas dataframes directly**"
   ]
  },
  {
   "cell_type": "code",
   "execution_count": null,
   "metadata": {},
   "outputs": [],
   "source": [
    "df = pd.read_csv(\"Wisconsin_data.csv\")\n",
    "feature_names = [c for c in df.columns if c not in [\"id\", \"diagnosis\"]]\n",
    "X = df[feature_names].fillna(0)\n",
    "y = df[\"diagnosis\"]"
   ]
  },
  {
   "cell_type": "code",
   "execution_count": null,
   "metadata": {},
   "outputs": [],
   "source": [
    "X.head()"
   ]
  },
  {
   "cell_type": "code",
   "execution_count": null,
   "metadata": {},
   "outputs": [],
   "source": [
    "y.head()"
   ]
  },
  {
   "cell_type": "code",
   "execution_count": null,
   "metadata": {},
   "outputs": [],
   "source": [
    "y.unique()"
   ]
  },
  {
   "cell_type": "markdown",
   "metadata": {},
   "source": [
    "## Define the filter function "
   ]
  },
  {
   "cell_type": "markdown",
   "metadata": {},
   "source": [
    "For each row, the value of a filter function is a vector with two entries:\n",
    "\n",
    "1. The value of the **decision function** of a fitted `IsolationForest` (from `sklearn`)\n",
    "2. The $L^2$ norm (square root of sum of squares) of **all** features in the data\n",
    "\n",
    "→ Define each as a `sklearn` transformer and then combine them using `make_union`!"
   ]
  },
  {
   "cell_type": "code",
   "execution_count": null,
   "metadata": {},
   "outputs": [],
   "source": [
    "# First\n",
    "isolation_forest = method_to_transform(IsolationForest, \"decision_function\")(random_state=42)"
   ]
  },
  {
   "cell_type": "code",
   "execution_count": null,
   "metadata": {},
   "outputs": [],
   "source": [
    "# Second\n",
    "l2_norm = transformer_from_callable_on_rows(np.linalg.norm)"
   ]
  },
  {
   "cell_type": "code",
   "execution_count": null,
   "metadata": {},
   "outputs": [],
   "source": [
    "# Combine!\n",
    "filter_func = make_union(isolation_forest, l2_norm)"
   ]
  },
  {
   "cell_type": "markdown",
   "metadata": {},
   "source": [
    "## Define the covering scheme"
   ]
  },
  {
   "cell_type": "code",
   "execution_count": null,
   "metadata": {},
   "outputs": [],
   "source": [
    "cover = CubicalCover(\n",
    "    kind=\"balanced\",\n",
    "    n_intervals=15,\n",
    "    overlap_frac=0.4\n",
    "    )"
   ]
  },
  {
   "cell_type": "markdown",
   "metadata": {},
   "source": [
    "## Advanced pipeline options\n",
    "\n",
    "### Use the `memory` argument to avoid recomputation -- as in `sklearn`\n",
    "\n",
    "This can help make your interactive session much faster to refresh! Pass a temporary folder as ``memory``, as explained in https://scikit-learn.org/stable/modules/generated/sklearn.pipeline.Pipeline.html (6.1.1.3)"
   ]
  },
  {
   "cell_type": "code",
   "execution_count": null,
   "metadata": {},
   "outputs": [],
   "source": [
    "from tempfile import mkdtemp\n",
    "from shutil import rmtree\n",
    "\n",
    "cachedir = mkdtemp()"
   ]
  },
  {
   "cell_type": "markdown",
   "metadata": {},
   "source": [
    "**Note**: Don't forget to clear the cache directory when you don't need it anymore! You can do it with\n",
    "```\n",
    "rmtree(cachedir)\n",
    "```"
   ]
  },
  {
   "cell_type": "markdown",
   "metadata": {},
   "source": [
    "### Use the `n_jobs` argument to parallelize the clustering step across the cover sets"
   ]
  },
  {
   "cell_type": "code",
   "execution_count": null,
   "metadata": {},
   "outputs": [],
   "source": [
    "# -1 means use all available cores\n",
    "n_jobs = -1"
   ]
  },
  {
   "cell_type": "markdown",
   "metadata": {},
   "source": [
    "### Pass `contract_nodes=True` to have a less redundant graph, or `min_intersection` > 1 to remove \"weak\" edges\n",
    "\n",
    "You can also change these in the interactive session."
   ]
  },
  {
   "cell_type": "code",
   "execution_count": null,
   "metadata": {},
   "outputs": [],
   "source": [
    "contract_nodes = True\n",
    "min_intersection = 2"
   ]
  },
  {
   "cell_type": "code",
   "execution_count": null,
   "metadata": {},
   "outputs": [],
   "source": [
    "pipeline = make_mapper_pipeline(\n",
    "    filter_func=filter_func,\n",
    "    cover=cover,\n",
    "    memory=cachedir,\n",
    "    n_jobs=-1,\n",
    "    contract_nodes=contract_nodes,\n",
    "    min_intersection=min_intersection\n",
    "    )"
   ]
  },
  {
   "cell_type": "markdown",
   "metadata": {},
   "source": [
    "## Visualize in 3D!"
   ]
  },
  {
   "cell_type": "markdown",
   "metadata": {},
   "source": [
    "We can color nodes according to arbitrary features using ``color_data``:"
   ]
  },
  {
   "cell_type": "code",
   "execution_count": null,
   "metadata": {},
   "outputs": [],
   "source": [
    "color_data = pd.get_dummies(y)\n",
    "color_data.head()"
   ]
  },
  {
   "cell_type": "code",
   "execution_count": null,
   "metadata": {},
   "outputs": [],
   "source": [
    "plotter = MapperInteractivePlotter(pipeline, X)\n",
    "plotter.plot(layout_dim=3,\n",
    "             color_data=color_data,\n",
    "             node_scale=30)"
   ]
  },
  {
   "cell_type": "code",
   "execution_count": null,
   "metadata": {},
   "outputs": [],
   "source": [
    "# rmtree(cachedir)"
   ]
  },
  {
   "cell_type": "markdown",
   "metadata": {},
   "source": [
    "### Exploit the flexibility of `color_features` and `node_color_statistic`\n",
    "\n",
    "**Pass arbitrary `sklearn` objects and custom functions!**"
   ]
  },
  {
   "cell_type": "markdown",
   "metadata": {},
   "source": [
    "### Pass `graph_step=False`  to have Mapper behave like a `sklearn` clusterer"
   ]
  },
  {
   "cell_type": "code",
   "execution_count": null,
   "metadata": {},
   "outputs": [],
   "source": [
    "pipeline_no_graph = make_mapper_pipeline(graph_step=False)\n",
    "labels = pipeline_no_graph.fit_transform(X)\n",
    "labels[:10]"
   ]
  },
  {
   "cell_type": "code",
   "execution_count": null,
   "metadata": {},
   "outputs": [],
   "source": [
    "len(labels) == len(X)"
   ]
  },
  {
   "cell_type": "markdown",
   "metadata": {},
   "source": [
    "### Use a different graph layout!"
   ]
  },
  {
   "cell_type": "code",
   "execution_count": null,
   "metadata": {},
   "outputs": [],
   "source": [
    "plotter = MapperInteractivePlotter(pipeline, X)\n",
    "plotter.plot(layout='fruchterman_reingold',\n",
    "             layout_dim=3,\n",
    "             color_data=color_data,\n",
    "             node_scale=30)"
   ]
  },
  {
   "cell_type": "markdown",
   "metadata": {},
   "source": [
    "## Finer colour control on static plots with ``plot_static_mapper_graph``\n",
    "\n",
    "In interactive mode, the number and composition of Mapper nodes changes due to changes in the Mapper pipeline. Hence, it is not possible to hard-code node colors there. However, you can achieve this by giving up pipeline interactivity and using the ``plot_static_mapper_graph`` function on a fixed pipeline. There is no OO interface here, you simply return a static figure directly by calling\n",
    "```\n",
    "plot_static_mapper_graph(pipeline, X, **optional_keyword_arguments)\n",
    "```\n",
    "Custom node colors can then be passed via the optional keyword argument ``node_color_statistic``. Your array of hard-coded node colors must have the same number of rows as there are nodes in the graph obtained by applying the pipeline to ``X``. As usual, it can have as many columns as you like: you can then switch between colours coming from different columns by using a dropdown."
   ]
  },
  {
   "cell_type": "code",
   "execution_count": null,
   "metadata": {},
   "outputs": [],
   "source": [
    "n_nodes = len(pipeline.fit_transform(X).vs)\n",
    "node_color_statistic = np.random.randn(n_nodes, 2) # Random node colors\n",
    "plot_static_mapper_graph(pipeline, X, node_color_statistic=node_color_statistic)"
   ]
  },
  {
   "cell_type": "markdown",
   "metadata": {},
   "source": [
    "### Use the gap- and histogram-based clusterers `FirstSimpleGap` and `FirstHistogramGap`"
   ]
  },
  {
   "cell_type": "code",
   "execution_count": null,
   "metadata": {},
   "outputs": [],
   "source": [
    "from gtda.mapper import FirstSimpleGap, FirstHistogramGap\n",
    "\n",
    "clusterer = FirstSimpleGap();\n",
    "clusterer = FirstHistogramGap();"
   ]
  }
 ],
 "metadata": {
  "kernelspec": {
   "display_name": "Python 3",
   "language": "python",
   "name": "python3"
  },
  "language_info": {
   "codemirror_mode": {
    "name": "ipython",
    "version": 3
   },
   "file_extension": ".py",
   "mimetype": "text/x-python",
   "name": "python",
   "nbconvert_exporter": "python",
   "pygments_lexer": "ipython3",
   "version": "3.9.2"
  },
  "toc": {
   "base_numbering": 1,
   "nav_menu": {},
   "number_sections": true,
   "sideBar": true,
   "skip_h1_title": false,
   "title_cell": "Table of Contents",
   "title_sidebar": "Contents",
   "toc_cell": false,
   "toc_position": {},
   "toc_section_display": true,
   "toc_window_display": false
  }
 },
 "nbformat": 4,
 "nbformat_minor": 4
}

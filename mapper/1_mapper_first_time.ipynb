{
 "cells": [
  {
   "cell_type": "markdown",
   "metadata": {},
   "source": [
    "# First time with ``giotto-tda`` Mapper"
   ]
  },
  {
   "cell_type": "code",
   "execution_count": null,
   "metadata": {},
   "outputs": [],
   "source": [
    "from IPython.display import SVG, display\n",
    "\n",
    "import numpy as np\n",
    "from sklearn.cluster import DBSCAN\n",
    "\n",
    "# Data viz\n",
    "from gtda.plotting import plot_point_cloud\n",
    "\n",
    "from gtda.mapper import (\n",
    "    Projection,\n",
    "    CubicalCover,\n",
    "    make_mapper_pipeline,\n",
    "    MapperInteractivePlotter\n",
    "    )"
   ]
  },
  {
   "cell_type": "markdown",
   "metadata": {},
   "source": [
    "Create 1000 points in 5 dimensions"
   ]
  },
  {
   "cell_type": "code",
   "execution_count": null,
   "metadata": {},
   "outputs": [],
   "source": [
    "X = np.random.random((1000, 5))\n",
    "plotly_params={\"trace\": {\"marker\": {\"size\": 2}}}\n",
    "plot_point_cloud(X, plotly_params=plotly_params)"
   ]
  },
  {
   "cell_type": "markdown",
   "metadata": {},
   "source": [
    "## Define a `MapperPipeline`"
   ]
  },
  {
   "cell_type": "code",
   "execution_count": null,
   "metadata": {},
   "outputs": [],
   "source": [
    "display(SVG(\"https://giotto-ai.github.io/gtda-docs/latest/_images/mapper_pipeline.svg\"))"
   ]
  },
  {
   "cell_type": "markdown",
   "metadata": {},
   "source": [
    "1. **Filter fuction**: projection onto first 2 coordinates\n",
    "2. **Covering scheme**: a \"uniform\" cover by rectangles\n",
    "3. **Clusterer**: ``DBSCAN`` with default values"
   ]
  },
  {
   "cell_type": "code",
   "execution_count": null,
   "metadata": {},
   "outputs": [],
   "source": [
    "# Filter function -- project on first two dimensions\n",
    "filter_func = Projection(columns=[0, 1])\n",
    "\n",
    "# Covering scheme -- uniform rectangular cover with 15 intervals\n",
    "cover = CubicalCover(n_intervals=10,\n",
    "                     overlap_frac=0.3)\n",
    "\n",
    "# Clustering scheme -- DBSCAN from sklearn\n",
    "clusterer = DBSCAN()\n",
    "\n",
    "pipeline = make_mapper_pipeline(\n",
    "    filter_func=filter_func,\n",
    "    cover=cover,\n",
    "    clusterer=clusterer,\n",
    "#     store_edge_elements=True\n",
    "    )"
   ]
  },
  {
   "cell_type": "markdown",
   "metadata": {},
   "source": [
    "## Fit-transform the pipeline on the data to have an `igraph.Graph` object"
   ]
  },
  {
   "cell_type": "code",
   "execution_count": null,
   "metadata": {},
   "outputs": [],
   "source": [
    "graph = pipeline.fit_transform(X)\n",
    "graph"
   ]
  },
  {
   "cell_type": "markdown",
   "metadata": {},
   "source": [
    "Node and edge information are stored in the ``vs`` and ``es`` attributes of the ``igraph.Graph`` object."
   ]
  },
  {
   "cell_type": "code",
   "execution_count": null,
   "metadata": {},
   "outputs": [],
   "source": [
    "nodes = graph.vs\n",
    "edges = graph.es\n",
    "\n",
    "n_nodes = len(nodes)\n",
    "n_edges = len(edges)\n",
    "print(f\"There are {n_nodes} nodes and {n_edges} edges.\")"
   ]
  },
  {
   "cell_type": "markdown",
   "metadata": {},
   "source": [
    "Nodes and edges contain metadata stored as attributes:"
   ]
  },
  {
   "cell_type": "code",
   "execution_count": null,
   "metadata": {},
   "outputs": [],
   "source": [
    "print(f\"Available node attributes: {nodes.attributes()}\")\n",
    "print(f\"Available edge attributes: {edges.attributes()}\")"
   ]
  },
  {
   "cell_type": "markdown",
   "metadata": {},
   "source": [
    "[*Note*: by passing ``store_edge_elements=True`` in addition to ``make_mapper_pipeline``, we could store the intersections between nodes as an additional edge attribute ``'edge_elements'``. Just remove the commented argument from ``make_mapper_pipeline`` above.]\n",
    "\n",
    "We can query an individual node (or edge), say the first one as globally indexed in the graph, by simply indexing:"
   ]
  },
  {
   "cell_type": "code",
   "execution_count": null,
   "metadata": {},
   "outputs": [],
   "source": [
    "i = 0\n",
    "print(f\"Node {i} has the following attributes:\\n{nodes[i].attributes()}\\n\")\n",
    "print(f\"This node comes from pullback cover set {nodes[i]['pullback_set_label']} and represents {len(nodes[i]['node_elements'])} data points.\")"
   ]
  },
  {
   "cell_type": "code",
   "execution_count": null,
   "metadata": {},
   "outputs": [],
   "source": [
    "j = 0\n",
    "print(f\"Edge {j} has the following attributes:\\n{edges[j].attributes()}\\n\")\n",
    "print(f\"This edge has weight {edges[j]['weight']}, i.e. it represents {edges[j]['weight']} data points.\")"
   ]
  },
  {
   "cell_type": "markdown",
   "metadata": {},
   "source": [
    "## Plot the resulting Mapper graph *interactively*!"
   ]
  },
  {
   "cell_type": "code",
   "execution_count": null,
   "metadata": {},
   "outputs": [],
   "source": [
    "plotter = MapperInteractivePlotter(pipeline, X)\n",
    "plotter.plot()"
   ]
  },
  {
   "cell_type": "markdown",
   "metadata": {},
   "source": [
    "With this API, you can inspect the *current* state of the objects you interactively changed:"
   ]
  },
  {
   "cell_type": "code",
   "execution_count": null,
   "metadata": {},
   "outputs": [],
   "source": [
    "print(\"Attributes:\", [attr for attr in dir(plotter) if attr.endswith(\"_\") and attr[0] != \"_\"])"
   ]
  },
  {
   "cell_type": "markdown",
   "metadata": {},
   "source": [
    "Now try running the cell below, then change some parameter in the widget above so that the graph changes, and run the cell below again!"
   ]
  },
  {
   "cell_type": "code",
   "execution_count": null,
   "metadata": {},
   "outputs": [],
   "source": [
    "current_graph = plotter.graph_\n",
    "n_nodes = len(current_graph.vs)\n",
    "print(f\"There are {n_nodes} nodes in the currently displayed graph!\")"
   ]
  }
 ],
 "metadata": {
  "kernelspec": {
   "display_name": "Python 3",
   "language": "python",
   "name": "python3"
  },
  "language_info": {
   "codemirror_mode": {
    "name": "ipython",
    "version": 3
   },
   "file_extension": ".py",
   "mimetype": "text/x-python",
   "name": "python",
   "nbconvert_exporter": "python",
   "pygments_lexer": "ipython3",
   "version": "3.9.2"
  }
 },
 "nbformat": 4,
 "nbformat_minor": 4
}
